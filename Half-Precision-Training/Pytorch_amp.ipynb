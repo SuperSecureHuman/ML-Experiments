{
  "cells": [
    {
      "cell_type": "code",
      "execution_count": 1,
      "metadata": {
        "colab": {
          "base_uri": "https://localhost:8080/"
        },
        "id": "c-pP2eSPwLs7",
        "outputId": "f9caeba0-3748-4ab1-89aa-176d24f3ce83"
      },
      "outputs": [
        {
          "name": "stdout",
          "output_type": "stream",
          "text": [
            "Tue Sep  6 10:17:45 2022       \n",
            "+-----------------------------------------------------------------------------+\n",
            "| NVIDIA-SMI 515.65.01    Driver Version: 515.65.01    CUDA Version: 11.7     |\n",
            "|-------------------------------+----------------------+----------------------+\n",
            "| GPU  Name        Persistence-M| Bus-Id        Disp.A | Volatile Uncorr. ECC |\n",
            "| Fan  Temp  Perf  Pwr:Usage/Cap|         Memory-Usage | GPU-Util  Compute M. |\n",
            "|                               |                      |               MIG M. |\n",
            "|===============================+======================+======================|\n",
            "|   0  NVIDIA GeForce ...  On   | 00000000:01:00.0 Off |                  N/A |\n",
            "| N/A   66C    P0    49W /  N/A |      0MiB /  6144MiB |      0%      Default |\n",
            "|                               |                      |                  N/A |\n",
            "+-------------------------------+----------------------+----------------------+\n",
            "                                                                               \n",
            "+-----------------------------------------------------------------------------+\n",
            "| Processes:                                                                  |\n",
            "|  GPU   GI   CI        PID   Type   Process name                  GPU Memory |\n",
            "|        ID   ID                                                   Usage      |\n",
            "|=============================================================================|\n",
            "|  No running processes found                                                 |\n",
            "+-----------------------------------------------------------------------------+\n"
          ]
        }
      ],
      "source": [
        "!nvidia-smi"
      ]
    },
    {
      "cell_type": "code",
      "execution_count": 2,
      "metadata": {
        "id": "5nCyQjtzwK5v"
      },
      "outputs": [],
      "source": [
        "# Imports\n",
        "import torch\n",
        "from tqdm import tqdm\n",
        "from torchvision import datasets, transforms"
      ]
    },
    {
      "cell_type": "code",
      "execution_count": 3,
      "metadata": {
        "id": "JHRrCeHBwK53"
      },
      "outputs": [],
      "source": [
        "torch.backends.cudnn.benchmark = True\n",
        "torch.backends.cudnn.deterministic = True\n",
        "# The flag below controls whether to allow TF32 on matmul. This flag defaults to False\n",
        "# in PyTorch 1.12 and later.\n",
        "torch.backends.cuda.matmul.allow_tf32 = True\n",
        "\n",
        "# The flag below controls whether to allow TF32 on cuDNN. This flag defaults to True.\n",
        "torch.backends.cudnn.allow_tf32 = True\n",
        "\n",
        "# I set tf32 to be false to stop usign tensor cores, just to see if using half pres then is faster or not"
      ]
    },
    {
      "cell_type": "code",
      "execution_count": 4,
      "metadata": {
        "colab": {
          "base_uri": "https://localhost:8080/"
        },
        "id": "DyOUw_QxwK54",
        "outputId": "e5977f2c-3039-4bca-f13d-0e9b1a5b182e"
      },
      "outputs": [
        {
          "name": "stderr",
          "output_type": "stream",
          "text": [
            "Using cache found in /home/venom/.cache/torch/hub/pytorch_vision_v0.6.0\n",
            "/home/venom/miniconda3/lib/python3.8/site-packages/torchvision/models/_utils.py:208: UserWarning: The parameter 'pretrained' is deprecated since 0.13 and will be removed in 0.15, please use 'weights' instead.\n",
            "  warnings.warn(\n",
            "/home/venom/miniconda3/lib/python3.8/site-packages/torchvision/models/_utils.py:223: UserWarning: Arguments other than a weight enum or `None` for 'weights' are deprecated since 0.13 and will be removed in 0.15. The current behavior is equivalent to passing `weights=None`.\n",
            "  warnings.warn(msg)\n"
          ]
        }
      ],
      "source": [
        "# Download resnet 100 and put in gpu\n",
        "model = torch.hub.load('pytorch/vision:v0.6.0', 'resnet101', pretrained=False)\n",
        "# Replace last layer with 10 nodes\n",
        "model.fc = torch.nn.Linear(2048, 10)\n",
        "\n",
        "# Put model in gpu\n",
        "model = model.cuda()"
      ]
    },
    {
      "cell_type": "code",
      "execution_count": 5,
      "metadata": {
        "colab": {
          "base_uri": "https://localhost:8080/",
          "height": 36
        },
        "id": "WEVyMRVrymsp",
        "outputId": "5ff3de39-fc29-452b-edb8-7b79d25654d0"
      },
      "outputs": [
        {
          "data": {
            "text/plain": [
              "'1.12.1+cu116'"
            ]
          },
          "execution_count": 5,
          "metadata": {},
          "output_type": "execute_result"
        }
      ],
      "source": [
        "torch.__version__"
      ]
    },
    {
      "cell_type": "code",
      "execution_count": 6,
      "metadata": {
        "colab": {
          "base_uri": "https://localhost:8080/"
        },
        "id": "w9kNTUvTwK56",
        "outputId": "2eee27d6-22ae-4699-c125-8b7d7081d125"
      },
      "outputs": [
        {
          "name": "stdout",
          "output_type": "stream",
          "text": [
            "Files already downloaded and verified\n",
            "Files already downloaded and verified\n"
          ]
        }
      ],
      "source": [
        "# Download cifar 10 dataset\n",
        "transform = transforms.Compose([\n",
        "    transforms.ToTensor(),\n",
        "    transforms.Normalize((0.5, 0.5, 0.5), (0.5, 0.5, 0.5))\n",
        "])\n",
        "\n",
        "trainset = datasets.CIFAR10(\n",
        "    root='./data', train=True, download=True, transform=transform)\n",
        "testset = datasets.CIFAR10(root='./data', train=False,\n",
        "                           download=True, transform=transform)\n"
      ]
    },
    {
      "cell_type": "code",
      "execution_count": 7,
      "metadata": {
        "id": "GtGg1zS7wK57"
      },
      "outputs": [],
      "source": [
        "trainloader = torch.utils.data.DataLoader(\n",
        "    trainset, batch_size=64, shuffle=True, num_workers=4,pin_memory=True)\n",
        "\n",
        "testloader = torch.utils.data.DataLoader(\n",
        "    testset, batch_size=64, shuffle=False, num_workers=4,pin_memory=True)\n"
      ]
    },
    {
      "cell_type": "code",
      "execution_count": 8,
      "metadata": {
        "id": "bVHKPcQOwK58"
      },
      "outputs": [],
      "source": [
        "optimizer = torch.optim.Adam(model.parameters(), lr=0.0001)\n",
        "criterion = torch.nn.CrossEntropyLoss()\n"
      ]
    },
    {
      "cell_type": "code",
      "execution_count": 9,
      "metadata": {
        "colab": {
          "base_uri": "https://localhost:8080/"
        },
        "id": "YAi3JClfwK59",
        "outputId": "57bf2df4-293d-4417-d48b-fd5040c8ec27"
      },
      "outputs": [
        {
          "name": "stderr",
          "output_type": "stream",
          "text": [
            "Test: 100%|██████████| 157/157 [00:05<00:00, 29.99batch/s, Accuracy=10]  \n"
          ]
        }
      ],
      "source": [
        "# Acc before training\n",
        "\n",
        "model.eval()\n",
        "correct = 0\n",
        "total = 0\n",
        "with torch.no_grad():\n",
        "    with tqdm(testloader, unit=\"batch\") as t2epoch:\n",
        "        for data, target in t2epoch:\n",
        "            t2epoch.set_description(\"Test\")\n",
        "            data, target = data.cuda(), target.cuda()\n",
        "            output = model(data)\n",
        "            _, predicted = torch.max(output.data, 1)\n",
        "            total += target.size(0)\n",
        "            correct += (predicted == target).sum().item()\n",
        "            t2epoch.set_postfix(Accuracy=(100 * correct / total))\n"
      ]
    },
    {
      "cell_type": "code",
      "execution_count": 10,
      "metadata": {
        "colab": {
          "base_uri": "https://localhost:8080/"
        },
        "id": "Zll6JgITwK5_",
        "outputId": "b789ec48-1250-4bb4-f5a4-3f8c4efb21ce"
      },
      "outputs": [
        {
          "name": "stderr",
          "output_type": "stream",
          "text": [
            "Epoch 1: 100%|██████████| 782/782 [00:43<00:00, 18.05batch/s, loss=1.97]\n",
            "Epoch 1: 100%|██████████| 157/157 [00:03<00:00, 44.36batch/s, Accuracy=25.4]\n"
          ]
        },
        {
          "name": "stdout",
          "output_type": "stream",
          "text": [
            " \n"
          ]
        },
        {
          "name": "stderr",
          "output_type": "stream",
          "text": [
            "Epoch 2: 100%|██████████| 782/782 [00:43<00:00, 18.06batch/s, loss=1.54]\n",
            "Epoch 2: 100%|██████████| 157/157 [00:03<00:00, 44.36batch/s, Accuracy=34.4]\n"
          ]
        },
        {
          "name": "stdout",
          "output_type": "stream",
          "text": [
            " \n"
          ]
        },
        {
          "name": "stderr",
          "output_type": "stream",
          "text": [
            "Epoch 3: 100%|██████████| 782/782 [00:43<00:00, 17.95batch/s, loss=3.1] \n",
            "Epoch 3: 100%|██████████| 157/157 [00:03<00:00, 44.40batch/s, Accuracy=38.4]\n"
          ]
        },
        {
          "name": "stdout",
          "output_type": "stream",
          "text": [
            " \n"
          ]
        },
        {
          "name": "stderr",
          "output_type": "stream",
          "text": [
            "Epoch 4: 100%|██████████| 782/782 [00:43<00:00, 17.98batch/s, loss=1.72]\n",
            "Epoch 4: 100%|██████████| 157/157 [00:03<00:00, 44.39batch/s, Accuracy=43.4]\n"
          ]
        },
        {
          "name": "stdout",
          "output_type": "stream",
          "text": [
            " \n"
          ]
        },
        {
          "name": "stderr",
          "output_type": "stream",
          "text": [
            "Epoch 5: 100%|██████████| 782/782 [00:43<00:00, 18.07batch/s, loss=1.49]\n",
            "Epoch 5: 100%|██████████| 157/157 [00:03<00:00, 44.53batch/s, Accuracy=45.4]\n"
          ]
        },
        {
          "name": "stdout",
          "output_type": "stream",
          "text": [
            " \n"
          ]
        },
        {
          "name": "stderr",
          "output_type": "stream",
          "text": [
            "Epoch 6: 100%|██████████| 782/782 [00:43<00:00, 17.92batch/s, loss=0.875]\n",
            "Epoch 6: 100%|██████████| 157/157 [00:03<00:00, 44.36batch/s, Accuracy=48.7]\n"
          ]
        },
        {
          "name": "stdout",
          "output_type": "stream",
          "text": [
            " \n"
          ]
        },
        {
          "name": "stderr",
          "output_type": "stream",
          "text": [
            "Epoch 7: 100%|██████████| 782/782 [00:43<00:00, 18.13batch/s, loss=2.05] \n",
            "Epoch 7: 100%|██████████| 157/157 [00:03<00:00, 44.25batch/s, Accuracy=51.7]\n"
          ]
        },
        {
          "name": "stdout",
          "output_type": "stream",
          "text": [
            " \n"
          ]
        },
        {
          "name": "stderr",
          "output_type": "stream",
          "text": [
            "Epoch 8: 100%|██████████| 782/782 [00:44<00:00, 17.77batch/s, loss=1.67] \n",
            "Epoch 8: 100%|██████████| 157/157 [00:03<00:00, 44.22batch/s, Accuracy=52]  \n"
          ]
        },
        {
          "name": "stdout",
          "output_type": "stream",
          "text": [
            " \n"
          ]
        },
        {
          "name": "stderr",
          "output_type": "stream",
          "text": [
            "Epoch 9: 100%|██████████| 782/782 [00:43<00:00, 17.93batch/s, loss=1.35] \n",
            "Epoch 9: 100%|██████████| 157/157 [00:03<00:00, 44.11batch/s, Accuracy=54.4]\n"
          ]
        },
        {
          "name": "stdout",
          "output_type": "stream",
          "text": [
            " \n"
          ]
        },
        {
          "name": "stderr",
          "output_type": "stream",
          "text": [
            "Epoch 10: 100%|██████████| 782/782 [00:44<00:00, 17.62batch/s, loss=1.1]  \n",
            "Epoch 10: 100%|██████████| 157/157 [00:03<00:00, 44.15batch/s, Accuracy=55.3]"
          ]
        },
        {
          "name": "stdout",
          "output_type": "stream",
          "text": [
            " \n"
          ]
        },
        {
          "name": "stderr",
          "output_type": "stream",
          "text": [
            "\n"
          ]
        }
      ],
      "source": [
        "# Train\n",
        "for epoch in range(1,11):\n",
        "    model.train()\n",
        "    with tqdm(trainloader, unit=\"batch\") as tepoch:\n",
        "        for data, target in tepoch:\n",
        "            tepoch.set_description(f\"Epoch {epoch}\")\n",
        "            data, target = data.cuda(), target.cuda()\n",
        "            optimizer.zero_grad()\n",
        "            with torch.cuda.amp.autocast():\n",
        "                output = model(data)\n",
        "                loss = criterion(output, target)\n",
        "            loss.backward()\n",
        "            optimizer.step()\n",
        "            tepoch.set_postfix(loss=loss.item())\n",
        "\n",
        "    # Test\n",
        "    model.eval()\n",
        "    correct = 0\n",
        "    total = 0\n",
        "    with torch.no_grad():\n",
        "        with tqdm(testloader, unit=\"batch\") as t2epoch:\n",
        "            for data, target in t2epoch:\n",
        "                t2epoch.set_description(f\"Epoch {epoch}\")\n",
        "                data, target = data.cuda(), target.cuda()\n",
        "                output = model(data)\n",
        "                _, predicted = torch.max(output.data, 1)\n",
        "                total += target.size(0)\n",
        "                correct += (predicted == target).sum().item()\n",
        "                t2epoch.set_postfix(Accuracy=(100 * correct / total))\n",
        "\n",
        "    print(\" \")\n"
      ]
    },
    {
      "cell_type": "code",
      "execution_count": 11,
      "metadata": {
        "colab": {
          "base_uri": "https://localhost:8080/"
        },
        "id": "5zfIKog62pma",
        "outputId": "b2eb0eb3-4cf6-401a-d5a2-ef819fa6c84e"
      },
      "outputs": [
        {
          "name": "stdout",
          "output_type": "stream",
          "text": [
            "Tue Sep  6 10:25:45 2022       \n",
            "+-----------------------------------------------------------------------------+\n",
            "| NVIDIA-SMI 515.65.01    Driver Version: 515.65.01    CUDA Version: 11.7     |\n",
            "|-------------------------------+----------------------+----------------------+\n",
            "| GPU  Name        Persistence-M| Bus-Id        Disp.A | Volatile Uncorr. ECC |\n",
            "| Fan  Temp  Perf  Pwr:Usage/Cap|         Memory-Usage | GPU-Util  Compute M. |\n",
            "|                               |                      |               MIG M. |\n",
            "|===============================+======================+======================|\n",
            "|   0  NVIDIA GeForce ...  On   | 00000000:01:00.0 Off |                  N/A |\n",
            "| N/A   70C    P0    74W /  N/A |   2485MiB /  6144MiB |     54%      Default |\n",
            "|                               |                      |                  N/A |\n",
            "+-------------------------------+----------------------+----------------------+\n",
            "                                                                               \n",
            "+-----------------------------------------------------------------------------+\n",
            "| Processes:                                                                  |\n",
            "|  GPU   GI   CI        PID   Type   Process name                  GPU Memory |\n",
            "|        ID   ID                                                   Usage      |\n",
            "|=============================================================================|\n",
            "|    0   N/A  N/A     49580      C   ...nom/miniconda3/bin/python     2483MiB |\n",
            "+-----------------------------------------------------------------------------+\n"
          ]
        }
      ],
      "source": [
        "!nvidia-smi"
      ]
    },
    {
      "cell_type": "code",
      "execution_count": null,
      "metadata": {
        "id": "LqAK-JsAwK5_"
      },
      "outputs": [],
      "source": []
    },
    {
      "cell_type": "code",
      "execution_count": 12,
      "metadata": {
        "colab": {
          "base_uri": "https://localhost:8080/"
        },
        "id": "rY-g2CoywK6A",
        "outputId": "454b15fb-0332-4171-d45e-3db76555b21d"
      },
      "outputs": [
        {
          "name": "stderr",
          "output_type": "stream",
          "text": [
            "Using cache found in /home/venom/.cache/torch/hub/pytorch_vision_v0.6.0\n"
          ]
        }
      ],
      "source": [
        "#redefine model\n",
        "model = torch.hub.load('pytorch/vision:v0.6.0', 'resnet101', pretrained=False)\n",
        "model.fc = torch.nn.Linear(2048, 10)\n",
        "model = model.cuda()"
      ]
    },
    {
      "cell_type": "code",
      "execution_count": 13,
      "metadata": {
        "id": "8ND7Az20wK6A"
      },
      "outputs": [],
      "source": [
        "scaler = torch.cuda.amp.GradScaler()\n",
        "optimizer = torch.optim.Adam(model.parameters(), lr=0.0001)\n",
        "criterion = torch.nn.CrossEntropyLoss()"
      ]
    },
    {
      "cell_type": "code",
      "execution_count": 14,
      "metadata": {
        "colab": {
          "base_uri": "https://localhost:8080/",
          "height": 524
        },
        "id": "QVYOrUcmwK6A",
        "outputId": "9d2ad4dd-0c9f-4be7-aa72-8585a9869654"
      },
      "outputs": [
        {
          "name": "stderr",
          "output_type": "stream",
          "text": [
            "Epoch 1: 100%|██████████| 782/782 [00:45<00:00, 17.32batch/s, loss=1.85]\n",
            "Epoch 1: 100%|██████████| 157/157 [00:03<00:00, 44.80batch/s, Accuracy=25.4]\n"
          ]
        },
        {
          "name": "stdout",
          "output_type": "stream",
          "text": [
            " \n"
          ]
        },
        {
          "name": "stderr",
          "output_type": "stream",
          "text": [
            "Epoch 2: 100%|██████████| 782/782 [00:44<00:00, 17.57batch/s, loss=1.97]\n",
            "Epoch 2: 100%|██████████| 157/157 [00:03<00:00, 44.41batch/s, Accuracy=35.7]\n"
          ]
        },
        {
          "name": "stdout",
          "output_type": "stream",
          "text": [
            " \n"
          ]
        },
        {
          "name": "stderr",
          "output_type": "stream",
          "text": [
            "Epoch 3: 100%|██████████| 782/782 [00:44<00:00, 17.56batch/s, loss=1.73]\n",
            "Epoch 3: 100%|██████████| 157/157 [00:03<00:00, 44.43batch/s, Accuracy=38.9]\n"
          ]
        },
        {
          "name": "stdout",
          "output_type": "stream",
          "text": [
            " \n"
          ]
        },
        {
          "name": "stderr",
          "output_type": "stream",
          "text": [
            "Epoch 4: 100%|██████████| 782/782 [00:44<00:00, 17.53batch/s, loss=2.07]\n",
            "Epoch 4: 100%|██████████| 157/157 [00:03<00:00, 44.46batch/s, Accuracy=44.3]\n"
          ]
        },
        {
          "name": "stdout",
          "output_type": "stream",
          "text": [
            " \n"
          ]
        },
        {
          "name": "stderr",
          "output_type": "stream",
          "text": [
            "Epoch 5: 100%|██████████| 782/782 [00:44<00:00, 17.74batch/s, loss=1.78]\n",
            "Epoch 5: 100%|██████████| 157/157 [00:03<00:00, 44.74batch/s, Accuracy=46.4]\n"
          ]
        },
        {
          "name": "stdout",
          "output_type": "stream",
          "text": [
            " \n"
          ]
        },
        {
          "name": "stderr",
          "output_type": "stream",
          "text": [
            "Epoch 6: 100%|██████████| 782/782 [00:45<00:00, 17.29batch/s, loss=2.12] \n",
            "Epoch 6: 100%|██████████| 157/157 [00:03<00:00, 44.26batch/s, Accuracy=49.4]\n"
          ]
        },
        {
          "name": "stdout",
          "output_type": "stream",
          "text": [
            " \n"
          ]
        },
        {
          "name": "stderr",
          "output_type": "stream",
          "text": [
            "Epoch 7: 100%|██████████| 782/782 [00:45<00:00, 17.23batch/s, loss=1.78] \n",
            "Epoch 7: 100%|██████████| 157/157 [00:03<00:00, 44.31batch/s, Accuracy=51.7]\n"
          ]
        },
        {
          "name": "stdout",
          "output_type": "stream",
          "text": [
            " \n"
          ]
        },
        {
          "name": "stderr",
          "output_type": "stream",
          "text": [
            "Epoch 8: 100%|██████████| 782/782 [00:45<00:00, 17.16batch/s, loss=1.56] \n",
            "Epoch 8: 100%|██████████| 157/157 [00:03<00:00, 44.10batch/s, Accuracy=52.6]\n"
          ]
        },
        {
          "name": "stdout",
          "output_type": "stream",
          "text": [
            " \n"
          ]
        },
        {
          "name": "stderr",
          "output_type": "stream",
          "text": [
            "Epoch 9: 100%|██████████| 782/782 [00:45<00:00, 17.11batch/s, loss=1.36] \n",
            "Epoch 9: 100%|██████████| 157/157 [00:03<00:00, 43.96batch/s, Accuracy=54.7]\n"
          ]
        },
        {
          "name": "stdout",
          "output_type": "stream",
          "text": [
            " \n"
          ]
        },
        {
          "name": "stderr",
          "output_type": "stream",
          "text": [
            "Epoch 10: 100%|██████████| 782/782 [00:45<00:00, 17.03batch/s, loss=1.13] \n",
            "Epoch 10: 100%|██████████| 157/157 [00:03<00:00, 44.25batch/s, Accuracy=56]  "
          ]
        },
        {
          "name": "stdout",
          "output_type": "stream",
          "text": [
            " \n"
          ]
        },
        {
          "name": "stderr",
          "output_type": "stream",
          "text": [
            "\n"
          ]
        }
      ],
      "source": [
        "# Train\n",
        "for epoch in range(1,11):\n",
        "    model.train()\n",
        "    with tqdm(trainloader, unit=\"batch\") as tepoch:\n",
        "        for data, target in tepoch:\n",
        "            tepoch.set_description(f\"Epoch {epoch}\")\n",
        "            data, target = data.cuda(), target.cuda()\n",
        "            optimizer.zero_grad()\n",
        "            with torch.cuda.amp.autocast():\n",
        "                output = model(data)\n",
        "                loss = criterion(output, target)\n",
        "            scaler.scale(loss).backward()\n",
        "            scaler.step(optimizer)\n",
        "            scaler.update()\n",
        "            tepoch.set_postfix(loss=loss.item())\n",
        "\n",
        "    # Test\n",
        "    model.eval()\n",
        "    correct = 0\n",
        "    total = 0\n",
        "    with torch.no_grad():\n",
        "        with tqdm(testloader, unit=\"batch\") as t2epoch:\n",
        "            for data, target in t2epoch:\n",
        "                t2epoch.set_description(f\"Epoch {epoch}\")\n",
        "                data, target = data.cuda(), target.cuda()\n",
        "                output = model(data)\n",
        "                _, predicted = torch.max(output.data, 1)\n",
        "                total += target.size(0)\n",
        "                correct += (predicted == target).sum().item()\n",
        "                t2epoch.set_postfix(Accuracy=(100 * correct / total))\n",
        "\n",
        "    print(\" \")\n"
      ]
    },
    {
      "cell_type": "code",
      "execution_count": null,
      "metadata": {
        "id": "aPakDdzN7yhC"
      },
      "outputs": [],
      "source": []
    }
  ],
  "metadata": {
    "accelerator": "GPU",
    "colab": {
      "provenance": []
    },
    "gpuClass": "standard",
    "kernelspec": {
      "display_name": "Python 3.8.13 ('base')",
      "language": "python",
      "name": "python3"
    },
    "language_info": {
      "codemirror_mode": {
        "name": "ipython",
        "version": 3
      },
      "file_extension": ".py",
      "mimetype": "text/x-python",
      "name": "python",
      "nbconvert_exporter": "python",
      "pygments_lexer": "ipython3",
      "version": "3.8.13"
    },
    "orig_nbformat": 4,
    "vscode": {
      "interpreter": {
        "hash": "f401cf1dbab24df559ae8789ef7eacae25a0fecff741eceb08aecb7249ab0875"
      }
    }
  },
  "nbformat": 4,
  "nbformat_minor": 0
}
