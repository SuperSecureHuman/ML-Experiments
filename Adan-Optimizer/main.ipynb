{
 "cells": [
  {
   "cell_type": "code",
   "execution_count": 1,
   "metadata": {},
   "outputs": [],
   "source": [
    "import torch\n",
    "from tqdm import tqdm\n",
    "from torchvision import datasets, transforms"
   ]
  },
  {
   "cell_type": "code",
   "execution_count": 2,
   "metadata": {},
   "outputs": [],
   "source": [
    "torch.backends.cuda.matmul.allow_tf32 = True\n",
    "torch.backends.cuda.matmul.allow_fp16_reduced_precision_reduction = True\n",
    "torch.backends.cudnn.allow_tf32 = True\n",
    "torch.backends.cudnn.benchmark = True\n",
    "torch.backends.cudnn.enabled = True\n",
    "torch.backends.cudnn.deterministic = True\n"
   ]
  },
  {
   "cell_type": "code",
   "execution_count": 3,
   "metadata": {},
   "outputs": [
    {
     "name": "stderr",
     "output_type": "stream",
     "text": [
      "Using cache found in /home/venom/.cache/torch/hub/pytorch_vision_v0.6.0\n",
      "/home/venom/miniconda3/lib/python3.8/site-packages/torchvision/models/_utils.py:208: UserWarning: The parameter 'pretrained' is deprecated since 0.13 and will be removed in 0.15, please use 'weights' instead.\n",
      "  warnings.warn(\n",
      "/home/venom/miniconda3/lib/python3.8/site-packages/torchvision/models/_utils.py:223: UserWarning: Arguments other than a weight enum or `None` for 'weights' are deprecated since 0.13 and will be removed in 0.15. The current behavior is equivalent to passing `weights=None`.\n",
      "  warnings.warn(msg)\n"
     ]
    }
   ],
   "source": [
    "# Download resnet 100 and put in gpu\n",
    "model = torch.hub.load('pytorch/vision:v0.6.0', 'resnet101', pretrained=False)"
   ]
  },
  {
   "cell_type": "code",
   "execution_count": 4,
   "metadata": {},
   "outputs": [
    {
     "name": "stdout",
     "output_type": "stream",
     "text": [
      "Files already downloaded and verified\n",
      "Files already downloaded and verified\n"
     ]
    }
   ],
   "source": [
    "# Download cifar 10 dataset\n",
    "transform = transforms.Compose([\n",
    "    transforms.ToTensor(),\n",
    "    transforms.Normalize((0.5, 0.5, 0.5), (0.5, 0.5, 0.5))\n",
    "])\n",
    "\n",
    "trainset = datasets.CIFAR10(root='./data', train=True, download=True, transform=transform)\n",
    "testset = datasets.CIFAR10(root='./data', train=False, download=True, transform=transform)\n"
   ]
  },
  {
   "cell_type": "code",
   "execution_count": 5,
   "metadata": {},
   "outputs": [],
   "source": [
    "trainloader = torch.utils.data.DataLoader(\n",
    "    trainset, batch_size=64, shuffle=True, num_workers=1)\n",
    "\n",
    "testloader = torch.utils.data.DataLoader(\n",
    "    testset, batch_size=64, shuffle=False, num_workers=1)"
   ]
  },
  {
   "cell_type": "code",
   "execution_count": 6,
   "metadata": {},
   "outputs": [],
   "source": [
    "# Replace last layer with 10 nodes\n",
    "model.fc = torch.nn.Linear(2048, 10)"
   ]
  },
  {
   "cell_type": "code",
   "execution_count": 7,
   "metadata": {},
   "outputs": [],
   "source": [
    "# Move model to GPU\n",
    "model = model.cuda()"
   ]
  },
  {
   "cell_type": "code",
   "execution_count": 8,
   "metadata": {},
   "outputs": [],
   "source": [
    "scaler = torch.cuda.amp.GradScaler()\n",
    "optimizer = torch.optim.Adam(model.parameters(), lr=0.001)\n",
    "criterion = torch.nn.CrossEntropyLoss()"
   ]
  },
  {
   "cell_type": "code",
   "execution_count": 9,
   "metadata": {},
   "outputs": [
    {
     "name": "stderr",
     "output_type": "stream",
     "text": [
      "Epoch 0: 100%|██████████| 782/782 [01:25<00:00,  9.13batch/s, loss=2.09]\n",
      "Epoch 0: 100%|██████████| 157/157 [00:03<00:00, 43.63batch/s, Accuracy=38.6]\n"
     ]
    },
    {
     "name": "stdout",
     "output_type": "stream",
     "text": [
      " \n"
     ]
    },
    {
     "name": "stderr",
     "output_type": "stream",
     "text": [
      "Epoch 1: 100%|██████████| 782/782 [01:19<00:00,  9.88batch/s, loss=1.65]\n",
      "Epoch 1: 100%|██████████| 157/157 [00:03<00:00, 51.63batch/s, Accuracy=48.3]\n"
     ]
    },
    {
     "name": "stdout",
     "output_type": "stream",
     "text": [
      " \n"
     ]
    },
    {
     "name": "stderr",
     "output_type": "stream",
     "text": [
      "Epoch 2: 100%|██████████| 782/782 [00:49<00:00, 15.75batch/s, loss=1.07] \n",
      "Epoch 2: 100%|██████████| 157/157 [00:02<00:00, 53.59batch/s, Accuracy=54.3]\n"
     ]
    },
    {
     "name": "stdout",
     "output_type": "stream",
     "text": [
      " \n"
     ]
    },
    {
     "name": "stderr",
     "output_type": "stream",
     "text": [
      "Epoch 3: 100%|██████████| 782/782 [00:45<00:00, 17.10batch/s, loss=1.49] \n",
      "Epoch 3: 100%|██████████| 157/157 [00:02<00:00, 53.94batch/s, Accuracy=61.4]\n"
     ]
    },
    {
     "name": "stdout",
     "output_type": "stream",
     "text": [
      " \n"
     ]
    },
    {
     "name": "stderr",
     "output_type": "stream",
     "text": [
      "Epoch 4: 100%|██████████| 782/782 [00:46<00:00, 16.98batch/s, loss=0.839]\n",
      "Epoch 4: 100%|██████████| 157/157 [00:02<00:00, 53.23batch/s, Accuracy=61.4]\n"
     ]
    },
    {
     "name": "stdout",
     "output_type": "stream",
     "text": [
      " \n"
     ]
    },
    {
     "name": "stderr",
     "output_type": "stream",
     "text": [
      "Epoch 5: 100%|██████████| 782/782 [00:46<00:00, 16.96batch/s, loss=1.02] \n",
      "Epoch 5: 100%|██████████| 157/157 [00:02<00:00, 53.26batch/s, Accuracy=64.2]\n"
     ]
    },
    {
     "name": "stdout",
     "output_type": "stream",
     "text": [
      " \n"
     ]
    },
    {
     "name": "stderr",
     "output_type": "stream",
     "text": [
      "Epoch 6: 100%|██████████| 782/782 [00:45<00:00, 17.28batch/s, loss=1.1]  \n",
      "Epoch 6: 100%|██████████| 157/157 [00:02<00:00, 53.20batch/s, Accuracy=66.5]\n"
     ]
    },
    {
     "name": "stdout",
     "output_type": "stream",
     "text": [
      " \n"
     ]
    },
    {
     "name": "stderr",
     "output_type": "stream",
     "text": [
      "Epoch 7: 100%|██████████| 782/782 [00:46<00:00, 16.71batch/s, loss=0.628]\n",
      "Epoch 7: 100%|██████████| 157/157 [00:02<00:00, 53.17batch/s, Accuracy=69]  \n"
     ]
    },
    {
     "name": "stdout",
     "output_type": "stream",
     "text": [
      " \n"
     ]
    },
    {
     "name": "stderr",
     "output_type": "stream",
     "text": [
      "Epoch 8: 100%|██████████| 782/782 [00:46<00:00, 16.89batch/s, loss=0.546]\n",
      "Epoch 8: 100%|██████████| 157/157 [00:02<00:00, 53.26batch/s, Accuracy=70.2]\n"
     ]
    },
    {
     "name": "stdout",
     "output_type": "stream",
     "text": [
      " \n"
     ]
    },
    {
     "name": "stderr",
     "output_type": "stream",
     "text": [
      "Epoch 9: 100%|██████████| 782/782 [00:46<00:00, 16.85batch/s, loss=0.445]\n",
      "Epoch 9: 100%|██████████| 157/157 [00:02<00:00, 52.98batch/s, Accuracy=70.4]"
     ]
    },
    {
     "name": "stdout",
     "output_type": "stream",
     "text": [
      " \n"
     ]
    },
    {
     "name": "stderr",
     "output_type": "stream",
     "text": [
      "\n"
     ]
    }
   ],
   "source": [
    "# Train\n",
    "for epoch in range(10):\n",
    "    with tqdm(trainloader, unit=\"batch\") as tepoch:\n",
    "        for data, target in tepoch:\n",
    "            tepoch.set_description(f\"Epoch {epoch}\")\n",
    "            data, target = data.cuda(), target.cuda()\n",
    "            optimizer.zero_grad()\n",
    "            with torch.cuda.amp.autocast():\n",
    "                output = model(data)\n",
    "                loss = criterion(output, target)\n",
    "            scaler.scale(loss).backward()\n",
    "            scaler.step(optimizer)\n",
    "            scaler.update()\n",
    "            tepoch.set_postfix(loss=loss.item())\n",
    "\n",
    "    # Test\n",
    "    model.eval()\n",
    "    correct = 0\n",
    "    total = 0\n",
    "    with torch.no_grad():\n",
    "        with tqdm(testloader, unit=\"batch\") as t2epoch:\n",
    "            for data, target in t2epoch:\n",
    "                t2epoch.set_description(f\"Epoch {epoch}\")\n",
    "                data, target = data.cuda(), target.cuda()\n",
    "                output = model(data)\n",
    "                _, predicted = torch.max(output.data, 1)\n",
    "                total += target.size(0)\n",
    "                correct += (predicted == target).sum().item()\n",
    "                t2epoch.set_postfix(Accuracy=(100 * correct / total))\n",
    "\n",
    "    print(\" \")\n"
   ]
  },
  {
   "cell_type": "code",
   "execution_count": 10,
   "metadata": {},
   "outputs": [
    {
     "name": "stderr",
     "output_type": "stream",
     "text": [
      "Using cache found in /home/venom/.cache/torch/hub/pytorch_vision_v0.6.0\n"
     ]
    }
   ],
   "source": [
    "## ADAN\n",
    "\n",
    "# recreate the model\n",
    "\n",
    "model = torch.hub.load('pytorch/vision:v0.6.0', 'resnet101', pretrained=False)\n",
    "model.fc = torch.nn.Linear(2048, 10)\n",
    "model = model.cuda()"
   ]
  },
  {
   "cell_type": "code",
   "execution_count": 11,
   "metadata": {},
   "outputs": [],
   "source": [
    "from adan_pytorch import Adan\n",
    "\n",
    "optim = Adan(\n",
    "    model.parameters(),\n",
    "    # learning rate (can be much higher than Adam, up to 5-10x)\n",
    "    lr=0.001,\n",
    "    # beta 1-2-3 as described in paper - author says most sensitive to beta3 tuning\n",
    "    betas=(0.02, 0.08, 0.01),\n",
    "    weight_decay=0.02         # weight decay 0.02 is optimal per author\n",
    ")\n"
   ]
  },
  {
   "cell_type": "code",
   "execution_count": 12,
   "metadata": {},
   "outputs": [
    {
     "name": "stderr",
     "output_type": "stream",
     "text": [
      "Epoch 0: 100%|██████████| 782/782 [01:10<00:00, 11.03batch/s, loss=1.05]\n",
      "Epoch 0: 100%|██████████| 157/157 [00:02<00:00, 54.34batch/s, Accuracy=49.6]\n"
     ]
    },
    {
     "name": "stdout",
     "output_type": "stream",
     "text": [
      " \n"
     ]
    },
    {
     "name": "stderr",
     "output_type": "stream",
     "text": [
      "Epoch 1: 100%|██████████| 782/782 [01:07<00:00, 11.51batch/s, loss=0.945]\n",
      "Epoch 1: 100%|██████████| 157/157 [00:02<00:00, 54.15batch/s, Accuracy=55.8]\n"
     ]
    },
    {
     "name": "stdout",
     "output_type": "stream",
     "text": [
      " \n"
     ]
    },
    {
     "name": "stderr",
     "output_type": "stream",
     "text": [
      "Epoch 2: 100%|██████████| 782/782 [01:08<00:00, 11.39batch/s, loss=1.27] \n",
      "Epoch 2: 100%|██████████| 157/157 [00:02<00:00, 52.89batch/s, Accuracy=62]  \n"
     ]
    },
    {
     "name": "stdout",
     "output_type": "stream",
     "text": [
      " \n"
     ]
    },
    {
     "name": "stderr",
     "output_type": "stream",
     "text": [
      "Epoch 3: 100%|██████████| 782/782 [01:08<00:00, 11.37batch/s, loss=0.355]\n",
      "Epoch 3: 100%|██████████| 157/157 [00:02<00:00, 52.88batch/s, Accuracy=68.1]\n"
     ]
    },
    {
     "name": "stdout",
     "output_type": "stream",
     "text": [
      " \n"
     ]
    },
    {
     "name": "stderr",
     "output_type": "stream",
     "text": [
      "Epoch 4: 100%|██████████| 782/782 [01:09<00:00, 11.18batch/s, loss=1.25] \n",
      "Epoch 4: 100%|██████████| 157/157 [00:02<00:00, 53.21batch/s, Accuracy=69.2]\n"
     ]
    },
    {
     "name": "stdout",
     "output_type": "stream",
     "text": [
      " \n"
     ]
    },
    {
     "name": "stderr",
     "output_type": "stream",
     "text": [
      "Epoch 5: 100%|██████████| 782/782 [01:09<00:00, 11.26batch/s, loss=0.594]\n",
      "Epoch 5: 100%|██████████| 157/157 [00:02<00:00, 52.70batch/s, Accuracy=70.5]\n"
     ]
    },
    {
     "name": "stdout",
     "output_type": "stream",
     "text": [
      " \n"
     ]
    },
    {
     "name": "stderr",
     "output_type": "stream",
     "text": [
      "Epoch 6: 100%|██████████| 782/782 [01:10<00:00, 11.06batch/s, loss=0.32] \n",
      "Epoch 6: 100%|██████████| 157/157 [00:02<00:00, 52.91batch/s, Accuracy=72.2]\n"
     ]
    },
    {
     "name": "stdout",
     "output_type": "stream",
     "text": [
      " \n"
     ]
    },
    {
     "name": "stderr",
     "output_type": "stream",
     "text": [
      "Epoch 7: 100%|██████████| 782/782 [01:09<00:00, 11.25batch/s, loss=0.399]\n",
      "Epoch 7: 100%|██████████| 157/157 [00:02<00:00, 52.64batch/s, Accuracy=72.7]\n"
     ]
    },
    {
     "name": "stdout",
     "output_type": "stream",
     "text": [
      " \n"
     ]
    },
    {
     "name": "stderr",
     "output_type": "stream",
     "text": [
      "Epoch 8: 100%|██████████| 782/782 [01:09<00:00, 11.26batch/s, loss=0.556]\n",
      "Epoch 8: 100%|██████████| 157/157 [00:02<00:00, 52.69batch/s, Accuracy=73.1]\n"
     ]
    },
    {
     "name": "stdout",
     "output_type": "stream",
     "text": [
      " \n"
     ]
    },
    {
     "name": "stderr",
     "output_type": "stream",
     "text": [
      "Epoch 9: 100%|██████████| 782/782 [01:09<00:00, 11.17batch/s, loss=0.165] \n",
      "Epoch 9: 100%|██████████| 157/157 [00:03<00:00, 52.32batch/s, Accuracy=73.4]"
     ]
    },
    {
     "name": "stdout",
     "output_type": "stream",
     "text": [
      " \n"
     ]
    },
    {
     "name": "stderr",
     "output_type": "stream",
     "text": [
      "\n"
     ]
    }
   ],
   "source": [
    "# Train\n",
    "for epoch in range(10):\n",
    "    with tqdm(trainloader, unit=\"batch\") as tepoch:\n",
    "        for data, target in tepoch:\n",
    "            tepoch.set_description(f\"Epoch {epoch}\")\n",
    "            data, target = data.cuda(), target.cuda()\n",
    "            optim.zero_grad()\n",
    "            with torch.cuda.amp.autocast():\n",
    "                output = model(data)\n",
    "                loss = criterion(output, target)\n",
    "            scaler.scale(loss).backward()\n",
    "            scaler.step(optim)\n",
    "            scaler.update()\n",
    "            tepoch.set_postfix(loss=loss.item())\n",
    "\n",
    "    # Test\n",
    "    model.eval()\n",
    "    correct = 0\n",
    "    total = 0\n",
    "    with torch.no_grad():\n",
    "        with tqdm(testloader, unit=\"batch\") as t2epoch:\n",
    "            for data, target in t2epoch:\n",
    "                t2epoch.set_description(f\"Epoch {epoch}\")\n",
    "                data, target = data.cuda(), target.cuda()\n",
    "                output = model(data)\n",
    "                _, predicted = torch.max(output.data, 1)\n",
    "                total += target.size(0)\n",
    "                correct += (predicted == target).sum().item()\n",
    "                t2epoch.set_postfix(Accuracy=(100 * correct / total))\n",
    "\n",
    "    print(\" \")\n"
   ]
  },
  {
   "cell_type": "code",
   "execution_count": null,
   "metadata": {},
   "outputs": [],
   "source": [
    "# at epoch 6, it is already better than adam"
   ]
  }
 ],
 "metadata": {
  "kernelspec": {
   "display_name": "Python 3.8.13 ('base')",
   "language": "python",
   "name": "python3"
  },
  "language_info": {
   "codemirror_mode": {
    "name": "ipython",
    "version": 3
   },
   "file_extension": ".py",
   "mimetype": "text/x-python",
   "name": "python",
   "nbconvert_exporter": "python",
   "pygments_lexer": "ipython3",
   "version": "3.8.13"
  },
  "orig_nbformat": 4,
  "vscode": {
   "interpreter": {
    "hash": "f401cf1dbab24df559ae8789ef7eacae25a0fecff741eceb08aecb7249ab0875"
   }
  }
 },
 "nbformat": 4,
 "nbformat_minor": 2
}
